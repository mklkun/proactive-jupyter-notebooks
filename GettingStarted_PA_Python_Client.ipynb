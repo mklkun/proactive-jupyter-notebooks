{
 "cells": [
  {
   "cell_type": "code",
   "execution_count": null,
   "metadata": {},
   "outputs": [],
   "source": [
    "import os\n",
    "import proactive"
   ]
  },
  {
   "cell_type": "code",
   "execution_count": null,
   "metadata": {},
   "outputs": [],
   "source": [
    "print(\"Logging on proactive-server 1...\")\n",
    "proactive_host = 'trydev.activeeon.com'\n",
    "proactive_port = '8080'\n",
    "proactive_url  = \"http://\"+proactive_host+\":\"+proactive_port\n",
    "print(\"Creating gateway \")\n",
    "gateway = proactive.ProActiveGateway(proactive_url, debug=False)\n",
    "print(\"Gateway created\")"
   ]
  },
  {
   "cell_type": "code",
   "execution_count": null,
   "metadata": {},
   "outputs": [],
   "source": [
    "print(\"Connecting on: \" + proactive_url)\n",
    "gateway.connect(username=\"MY_LOGIN\", password=\"MY_PASSWORD\")  # put your login here!\n",
    "assert gateway.isConnected() is True\n",
    "print(\"Connected\")"
   ]
  },
  {
   "cell_type": "code",
   "execution_count": null,
   "metadata": {},
   "outputs": [],
   "source": [
    "print(\"Creating a proactive task...\")\n",
    "proactive_task = gateway.createPythonTask()\n",
    "proactive_task.setTaskName(\"SimplePythonTask\")\n",
    "proactive_task.setTaskImplementation(\"\"\"result='Hello from SimplePythonJob world!'\"\"\")"
   ]
  },
  {
   "cell_type": "code",
   "execution_count": null,
   "metadata": {
    "collapsed": false,
    "jupyter": {
     "outputs_hidden": false
    },
    "pycharm": {
     "name": "#%%\n"
    }
   },
   "outputs": [],
   "source": [
    "print(\"Creating a proactive job...\")\n",
    "proactive_job = gateway.createJob()\n",
    "proactive_job.setJobName(\"SimplePythonJob\")"
   ]
  },
  {
   "cell_type": "code",
   "execution_count": null,
   "metadata": {
    "collapsed": false,
    "jupyter": {
     "outputs_hidden": false
    },
    "pycharm": {
     "name": "#%%\n"
    }
   },
   "outputs": [],
   "source": [
    "print(\"Adding task to the job...\")\n",
    "proactive_job.addTask(proactive_task)"
   ]
  },
  {
   "cell_type": "code",
   "execution_count": null,
   "metadata": {
    "collapsed": false,
    "jupyter": {
     "outputs_hidden": false
    },
    "pycharm": {
     "name": "#%%\n"
    }
   },
   "outputs": [],
   "source": [
    "print(\"Submitting the job to the proactive scheduler...\")\n",
    "job_id = gateway.submitJob(proactive_job, debug=False)\n",
    "print(\"job_id: \" + str(job_id))"
   ]
  },
  {
   "cell_type": "code",
   "execution_count": null,
   "metadata": {
    "collapsed": false,
    "jupyter": {
     "outputs_hidden": false
    },
    "pycharm": {
     "name": "#%%\n"
    }
   },
   "outputs": [],
   "source": [
    "print(\"Getting job output...\")\n",
    "job_result = gateway.getJobResult(job_id)\n",
    "print(job_result)"
   ]
  },
  {
   "cell_type": "code",
   "execution_count": null,
   "metadata": {
    "collapsed": false,
    "jupyter": {
     "outputs_hidden": false
    },
    "pycharm": {
     "name": "#%%\n"
    }
   },
   "outputs": [],
   "source": [
    "print(\"Disconnecting\")\n",
    "gateway.disconnect()\n",
    "print(\"Disconnected\")\n",
    "gateway.terminate()\n",
    "print(\"Finished\")"
   ]
  },
  {
   "cell_type": "code",
   "execution_count": null,
   "metadata": {},
   "outputs": [],
   "source": []
  }
 ],
 "metadata": {
  "kernelspec": {
   "display_name": "Python 3",
   "language": "python",
   "name": "python3"
  },
  "language_info": {
   "codemirror_mode": {
    "name": "ipython",
    "version": 3
   },
   "file_extension": ".py",
   "mimetype": "text/x-python",
   "name": "python",
   "nbconvert_exporter": "python",
   "pygments_lexer": "ipython3",
   "version": "3.7.3"
  },
  "pycharm": {
   "stem_cell": {
    "cell_type": "raw",
    "metadata": {
     "collapsed": false
    },
    "source": []
   }
  }
 },
 "nbformat": 4,
 "nbformat_minor": 4
}
